{
 "cells": [
  {
   "cell_type": "code",
   "execution_count": 2,
   "metadata": {},
   "outputs": [],
   "source": [
    "import numpy as np\n",
    "import os\n",
    "from collections import defaultdict\n",
    "import json"
   ]
  },
  {
   "cell_type": "code",
   "execution_count": null,
   "metadata": {},
   "outputs": [],
   "source": [
    "def get_file_size(file_path):\n",
    "    try:\n",
    "        return os.path.getsize(file_path)\n",
    "    except OSError as e:\n",
    "        print(f\"Error: {e}\")\n",
    "        return None\n"
   ]
  },
  {
   "cell_type": "code",
   "execution_count": null,
   "metadata": {},
   "outputs": [],
   "source": []
  },
  {
   "cell_type": "code",
   "execution_count": 3,
   "metadata": {},
   "outputs": [
    {
     "name": "stdout",
     "output_type": "stream",
     "text": [
      "26: mean: 3739408565453.4683, max: 1.2515169112927764e+18\n",
      "41: mean: 3576988686756.2734, max: 6.9997397869278e+17\n",
      "11: mean: 3610610575153.1987, max: 1.0787992338903859e+18\n",
      "21: mean: 4001728835677.394, max: 9.556184723294781e+17\n",
      "23: mean: 3965643711279.191, max: 6.95138120395391e+17\n",
      "32: mean: 3585495955212.9043, max: 6.95563700114817e+17\n",
      "34: mean: 3621470703682.71, max: 6.956425213546332e+17\n",
      "19: mean: 3976378223200.8647, max: 1.0622839507658998e+18\n",
      "24: mean: 3597204684211.9937, max: 6.963585095827456e+17\n",
      "27: mean: 3590875309702.473, max: 6.98345533252567e+17\n",
      "4: mean: 3627851709213.7104, max: 7.025021682418975e+17\n",
      "31: mean: 3585421930109.0815, max: 6.997945521390223e+17\n",
      "38: mean: 3622842848383.1636, max: 7.037122495077417e+17\n",
      "22: mean: 3648207259203.6543, max: 6.90354832497705e+17\n",
      "37: mean: 3580963936996.482, max: 7.022793796983194e+17\n",
      "39: mean: 3578894316248.326, max: 7.019147541547581e+17\n",
      "46: mean: 3521770449169.511, max: 6.950845879230136e+17\n",
      "56: mean: 3531570343976.026, max: 6.991949747045007e+17\n",
      "47: mean: 3518113481878.0977, max: 6.958886745203016e+17\n",
      "18: mean: 3561863920075.091, max: 6.923415812896195e+17\n",
      "9: mean: 3574750162787.359, max: 7.008895282813338e+17\n",
      "48: mean: 3568358960287.2144, max: 6.978735678863442e+17\n",
      "7: mean: 4696637824238.466, max: 1.9392975809114276e+18\n",
      "44: mean: 3548025340170.8403, max: 6.967168816539238e+17\n",
      "15: mean: 3592541785668.484, max: 6.864555519487508e+17\n",
      "54: mean: 3528471783115.306, max: 6.943152046614774e+17\n",
      "2: mean: 3580538744127.5923, max: 6.986887870388634e+17\n",
      "29: mean: 3580225049976.912, max: 6.958894991540224e+17\n",
      "5: mean: 3608323860398.601, max: 6.89747283603882e+17\n",
      "6: mean: 3675913201024.8154, max: 7.006187048235172e+17\n",
      "49: mean: 3557898826141.6025, max: 6.955195134912758e+17\n",
      "55: mean: 3540749911712.725, max: 6.916286854379602e+17\n",
      "50: mean: 3520618151242.215, max: 6.918839095745577e+17\n",
      "17: mean: 3659435592658.3438, max: 7.423491568272671e+17\n",
      "33: mean: 3620801871019.499, max: 6.96399535110357e+17\n",
      "10: mean: 3558103000713.061, max: 7.012285901795492e+17\n",
      "16: mean: 3520502429656.866, max: 6.852949487061565e+17\n",
      "43: mean: 3577950008937.0684, max: 6.991417171100303e+17\n",
      "1: mean: 3908643542287.873, max: 1.8250897963058463e+19\n",
      "20: mean: 3801007482136.4585, max: 8.960323638075064e+17\n",
      "13: mean: 3852345585187.411, max: 7.02226878018093e+17\n",
      "36: mean: 3665066258898.9707, max: 7.44419880819753e+17\n",
      "28: mean: 3584199571849.5894, max: 6.989387197757522e+17\n",
      "45: mean: 3543822518625.5635, max: 6.946396980306248e+17\n",
      "40: mean: 3568536718039.14, max: 7.031000276895007e+17\n",
      "25: mean: 3572971734916.385, max: 7.001290785517732e+17\n",
      "42: mean: 3591504751078.984, max: 6.984323259516846e+17\n",
      "12: mean: 3593412836415.3745, max: 7.019370879846973e+17\n",
      "30: mean: 3880639325638.556, max: 8.442795884386714e+17\n",
      "8: mean: 3684404656352.287, max: 6.997065224893235e+17\n",
      "3: mean: 3615033143927.6567, max: 7.020620887128801e+17\n",
      "35: mean: 3955542664582.254, max: 1.9877604800510034e+18\n",
      "14: mean: 3627978990976.8154, max: 6.87843960256725e+17\n",
      "53: mean: 3539881463601.535, max: 6.942932831483986e+17\n",
      "All: mean: 3658113762851.3965, max: 1.8250897963058463e+19\n",
      "All: mean std: 190874702556.85547, max std: 2.3689208917875753e+18\n"
     ]
    }
   ],
   "source": [
    "\n",
    "seq_root = '/mnt/ssd1/kradar_dataset/radar_tensor'\n",
    "mean_list, max_list = [], []\n",
    "for seq_name in os.listdir(seq_root):\n",
    "    if '.' in seq_name:\n",
    "        continue\n",
    "    seq_dir = os.path.join(seq_root, seq_name, 'radar_DEAR_D_downsampled_2')\n",
    "    mean, max = 0., 0.\n",
    "    for file_name in os.listdir(seq_dir):\n",
    "        file_path = os.path.join(seq_dir, file_name)\n",
    "        dear = np.load(file_path)\n",
    "        mean += dear.mean()\n",
    "        max = dear.max() if dear.max() > max else max\n",
    "    mean /= len(os.listdir(seq_dir))\n",
    "    mean_list.append(mean)\n",
    "    max_list.append(max)\n",
    "    print(f'{seq_name}: mean: {mean}, max: {max}')\n",
    "print(f'All: mean: {np.array(mean_list).mean()}, max: {np.array(max_list).max()}')\n",
    "print(f'All: mean std: {np.array(mean_list).std()}, max std: {np.array(max_list).std()}')\n"
   ]
  },
  {
   "cell_type": "code",
   "execution_count": 2,
   "metadata": {},
   "outputs": [
    {
     "name": "stdout",
     "output_type": "stream",
     "text": [
      "26: mean: 48840684508.92007, max: 3.0031384143724544e+16\n",
      "41: mean: 44556955247.73941, max: 1.4993090880208896e+16\n",
      "11: mean: 52644112470.72313, max: 2.1245757956816896e+16\n",
      "21: mean: 100704202178.29317, max: 2.8006983521009664e+16\n",
      "23: mean: 69708777916.34584, max: 8370605644578816.0\n",
      "32: mean: 50268383185.30293, max: 3576091239251968.0\n",
      "34: mean: 47649738591.89577, max: 5221313895464960.0\n",
      "19: mean: 71286344139.09062, max: 1.7503127750049792e+16\n",
      "24: mean: 48357666842.72757, max: 2333786444398592.0\n",
      "27: mean: 44281214651.92822, max: 7781191713292288.0\n",
      "4: mean: 59517981166.9062, max: 4552540779708416.0\n",
      "31: mean: 42998633535.374596, max: 3043413020639232.0\n",
      "38: mean: 48721517922.718956, max: 1.656730484211712e+16\n",
      "22: mean: 50743848692.724304, max: 5788387554361344.0\n",
      "37: mean: 47773994934.61889, max: 213611574198272.0\n",
      "39: mean: 44888173195.484505, max: 1.1677852869066752e+16\n",
      "46: mean: 39350116778.944626, max: 855165301161984.0\n",
      "56: mean: 40674862083.3355, max: 994084676173824.0\n",
      "47: mean: 39083321384.02606, max: 35815262519296.0\n",
      "18: mean: 50428774351.160576, max: 8596428582551552.0\n"
     ]
    },
    {
     "ename": "ValueError",
     "evalue": "cannot reshape array of size 1064928 into shape (250,400,150)",
     "output_type": "error",
     "traceback": [
      "\u001b[0;31m---------------------------------------------------------------------------\u001b[0m",
      "\u001b[0;31mValueError\u001b[0m                                Traceback (most recent call last)",
      "Cell \u001b[0;32mIn[2], line 10\u001b[0m\n\u001b[1;32m      8\u001b[0m \u001b[39mfor\u001b[39;00m file_name \u001b[39min\u001b[39;00m os\u001b[39m.\u001b[39mlistdir(seq_dir):\n\u001b[1;32m      9\u001b[0m     file_path \u001b[39m=\u001b[39m os\u001b[39m.\u001b[39mpath\u001b[39m.\u001b[39mjoin(seq_dir, file_name)\n\u001b[0;32m---> 10\u001b[0m     zyx_rdr \u001b[39m=\u001b[39m np\u001b[39m.\u001b[39;49mload(file_path)\n\u001b[1;32m     11\u001b[0m     mean \u001b[39m+\u001b[39m\u001b[39m=\u001b[39m zyx_rdr\u001b[39m.\u001b[39mmean()\n\u001b[1;32m     12\u001b[0m     \u001b[39mmax\u001b[39m \u001b[39m=\u001b[39m zyx_rdr\u001b[39m.\u001b[39mmax() \u001b[39mif\u001b[39;00m zyx_rdr\u001b[39m.\u001b[39mmax() \u001b[39m>\u001b[39m \u001b[39mmax\u001b[39m \u001b[39melse\u001b[39;00m \u001b[39mmax\u001b[39m\n",
      "File \u001b[0;32m~/anaconda3/envs/cenrad/lib/python3.9/site-packages/numpy/lib/npyio.py:432\u001b[0m, in \u001b[0;36mload\u001b[0;34m(file, mmap_mode, allow_pickle, fix_imports, encoding, max_header_size)\u001b[0m\n\u001b[1;32m    429\u001b[0m         \u001b[39mreturn\u001b[39;00m \u001b[39mformat\u001b[39m\u001b[39m.\u001b[39mopen_memmap(file, mode\u001b[39m=\u001b[39mmmap_mode,\n\u001b[1;32m    430\u001b[0m                                   max_header_size\u001b[39m=\u001b[39mmax_header_size)\n\u001b[1;32m    431\u001b[0m     \u001b[39melse\u001b[39;00m:\n\u001b[0;32m--> 432\u001b[0m         \u001b[39mreturn\u001b[39;00m \u001b[39mformat\u001b[39;49m\u001b[39m.\u001b[39;49mread_array(fid, allow_pickle\u001b[39m=\u001b[39;49mallow_pickle,\n\u001b[1;32m    433\u001b[0m                                  pickle_kwargs\u001b[39m=\u001b[39;49mpickle_kwargs,\n\u001b[1;32m    434\u001b[0m                                  max_header_size\u001b[39m=\u001b[39;49mmax_header_size)\n\u001b[1;32m    435\u001b[0m \u001b[39melse\u001b[39;00m:\n\u001b[1;32m    436\u001b[0m     \u001b[39m# Try a pickle\u001b[39;00m\n\u001b[1;32m    437\u001b[0m     \u001b[39mif\u001b[39;00m \u001b[39mnot\u001b[39;00m allow_pickle:\n",
      "File \u001b[0;32m~/anaconda3/envs/cenrad/lib/python3.9/site-packages/numpy/lib/format.py:828\u001b[0m, in \u001b[0;36mread_array\u001b[0;34m(fp, allow_pickle, pickle_kwargs, max_header_size)\u001b[0m\n\u001b[1;32m    824\u001b[0m             array[i:i\u001b[39m+\u001b[39mread_count] \u001b[39m=\u001b[39m numpy\u001b[39m.\u001b[39mfrombuffer(data, dtype\u001b[39m=\u001b[39mdtype,\n\u001b[1;32m    825\u001b[0m                                                      count\u001b[39m=\u001b[39mread_count)\n\u001b[1;32m    827\u001b[0m \u001b[39mif\u001b[39;00m fortran_order:\n\u001b[0;32m--> 828\u001b[0m     array\u001b[39m.\u001b[39;49mshape \u001b[39m=\u001b[39m shape[::\u001b[39m-\u001b[39m\u001b[39m1\u001b[39m]\n\u001b[1;32m    829\u001b[0m     array \u001b[39m=\u001b[39m array\u001b[39m.\u001b[39mtranspose()\n\u001b[1;32m    830\u001b[0m \u001b[39melse\u001b[39;00m:\n",
      "\u001b[0;31mValueError\u001b[0m: cannot reshape array of size 1064928 into shape (250,400,150)"
     ]
    }
   ],
   "source": [
    "\n",
    "seq_root = '/mnt/ssd1/kradar_dataset/radar_tensor_zyx'\n",
    "mean_list, max_list = [], []\n",
    "for seq_name in os.listdir(seq_root):\n",
    "    if '.' in seq_name:\n",
    "        continue\n",
    "    seq_dir = os.path.join(seq_root, seq_name)\n",
    "    mean, max = 0., 0.\n",
    "    for file_name in os.listdir(seq_dir):\n",
    "        file_path = os.path.join(seq_dir, file_name)\n",
    "        zyx_rdr = np.load(file_path)\n",
    "        mean += zyx_rdr.mean()\n",
    "        max = zyx_rdr.max() if zyx_rdr.max() > max else max\n",
    "    mean /= len(os.listdir(seq_dir))\n",
    "    mean_list.append(mean)\n",
    "    max_list.append(max)\n",
    "    print(f'{seq_name}: mean: {mean}, max: {max}')\n",
    "print(f'All: mean: {np.array(mean_list).mean()}, max: {np.array(max_list).max()}')\n",
    "print(f'All: mean std: {np.array(mean_list).std()}, max std: {np.array(max_list).std()}')"
   ]
  },
  {
   "cell_type": "code",
   "execution_count": 4,
   "metadata": {},
   "outputs": [
    {
     "name": "stdout",
     "output_type": "stream",
     "text": [
      "Fail to load 9/cube_01098.npy\n",
      "9: mean: 46036067412.26221, max: 1.1464478893801472e+16\n",
      "48: mean: 42211749298.06874, max: 2365068570263552.0\n",
      "7: mean: 137371913522.54778, max: 4.980313079939072e+16\n",
      "44: mean: 42580208062.95766, max: 308235139547136.0\n",
      "15: mean: 53850420510.98089, max: 1.6736185103679488e+16\n",
      "54: mean: 40284813620.69368, max: 306495812009984.0\n",
      "2: mean: 46118343190.828026, max: 5754763329142784.0\n",
      "29: mean: 42306537845.576546, max: 1849546061643776.0\n",
      "5: mean: 60462771097.4372, max: 1.0371232549568512e+16\n",
      "6: mean: 61661526166.01274, max: 6568722445631488.0\n",
      "49: mean: 41153243262.74918, max: 1430705280122880.0\n",
      "55: mean: 40968651772.68608, max: 1613695046123520.0\n",
      "50: mean: 42221584337.30293, max: 2048395933908992.0\n",
      "17: mean: 61039638397.55414, max: 1.7137117079535616e+16\n",
      "33: mean: 56264904677.35935, max: 1.0503803157610496e+16\n",
      "10: mean: 48701517200.768105, max: 4300575181111296.0\n",
      "16: mean: 46085650921.171974, max: 3646509912424448.0\n",
      "43: mean: 50343874386.55375, max: 4719715402383360.0\n",
      "1: mean: 87232282409.10652, max: 3.0955414145204224e+16\n",
      "20: mean: 61883726365.35032, max: 1.8235761123917824e+16\n",
      "13: mean: 75366736280.59526, max: 8710756853874688.0\n",
      "36: mean: 45931616389.4202, max: 1.860877259112448e+16\n",
      "28: mean: 43102985866.423454, max: 1.0683946970906624e+16\n",
      "45: mean: 43229435463.713356, max: 639105964703744.0\n",
      "40: mean: 41338877505.04234, max: 1571289491832832.0\n",
      "25: mean: 45043365390.19902, max: 1518764994592768.0\n",
      "42: mean: 47358711027.49186, max: 2142773142618112.0\n",
      "12: mean: 51591581502.54072, max: 5059453757947904.0\n",
      "30: mean: 53763861702.13984, max: 1.803662711272243e+16\n",
      "8: mean: 58651231328.05087, max: 1.5080088664014848e+16\n"
     ]
    },
    {
     "name": "stderr",
     "output_type": "stream",
     "text": [
      "/home/andy/anaconda3/envs/cenrad/lib/python3.9/site-packages/numpy/core/_methods.py:181: RuntimeWarning: overflow encountered in reduce\n",
      "  ret = umr_sum(arr, axis, dtype, out, keepdims, where=where)\n",
      "/home/andy/anaconda3/envs/cenrad/lib/python3.9/site-packages/numpy/core/_methods.py:181: RuntimeWarning: invalid value encountered in reduce\n",
      "  ret = umr_sum(arr, axis, dtype, out, keepdims, where=where)\n"
     ]
    },
    {
     "name": "stdout",
     "output_type": "stream",
     "text": [
      "3: mean: nan, max: 3.6893488147419103e+19\n",
      "35: mean: 72827718632.65146, max: 3.909184314041958e+16\n",
      "14: mean: 68221960930.51085, max: 1.2937062118326272e+16\n",
      "53: mean: 42192603752.06504, max: 1174747777859584.0\n",
      "All: mean: nan, max: 3.6893488147419103e+19\n",
      "All: mean std: nan, max std: inf\n"
     ]
    },
    {
     "name": "stderr",
     "output_type": "stream",
     "text": [
      "/home/andy/anaconda3/envs/cenrad/lib/python3.9/site-packages/numpy/core/_methods.py:239: RuntimeWarning: overflow encountered in multiply\n",
      "  x = um.multiply(x, x, out=x)\n"
     ]
    }
   ],
   "source": [
    "seq_to_skip = [26, 41, 11, 21, 23, 32, 34, 19, 24, 27, 4, 31, 38, 22, 37, 39, 46, 56, 47, 18]\n",
    "seq_root = '/mnt/ssd1/kradar_dataset/radar_tensor_zyx'\n",
    "mean_list, max_list = [], []\n",
    "seq_load_failed = defaultdict(list)\n",
    "for seq_name in os.listdir(seq_root):\n",
    "    if '.' in seq_name:\n",
    "        continue\n",
    "    if int(seq_name) in seq_to_skip:\n",
    "        continue\n",
    "    seq_dir = os.path.join(seq_root, seq_name)\n",
    "    mean, max = 0., 0.\n",
    "    for file_name in os.listdir(seq_dir):\n",
    "        file_path = os.path.join(seq_dir, file_name)\n",
    "        try:\n",
    "            zyx_rdr = np.load(file_path)\n",
    "        except:\n",
    "            seq_load_failed[seq_name].append(file_name.split('.')[0])\n",
    "            print(f'Fail to load {seq_name}/{file_name}')\n",
    "            continue\n",
    "        mean += zyx_rdr.mean()\n",
    "        max = zyx_rdr.max() if zyx_rdr.max() > max else max\n",
    "    mean /= len(os.listdir(seq_dir))\n",
    "    mean_list.append(mean)\n",
    "    max_list.append(max)\n",
    "    print(f'{seq_name}: mean: {mean}, max: {max}')\n",
    "print(f'All: mean: {np.array(mean_list).mean()}, max: {np.array(max_list).max()}')\n",
    "print(f'All: mean std: {np.array(mean_list).std()}, max std: {np.array(max_list).std()}')\n",
    "\n",
    "with open('./fail_to_load.json', 'w') as f:\n",
    "    json.dump(dict(seq_load_failed), f, indent=2)"
   ]
  }
 ],
 "metadata": {
  "kernelspec": {
   "display_name": "centerradar",
   "language": "python",
   "name": "python3"
  },
  "language_info": {
   "codemirror_mode": {
    "name": "ipython",
    "version": 3
   },
   "file_extension": ".py",
   "mimetype": "text/x-python",
   "name": "python",
   "nbconvert_exporter": "python",
   "pygments_lexer": "ipython3",
   "version": "3.9.17"
  },
  "orig_nbformat": 4
 },
 "nbformat": 4,
 "nbformat_minor": 2
}
